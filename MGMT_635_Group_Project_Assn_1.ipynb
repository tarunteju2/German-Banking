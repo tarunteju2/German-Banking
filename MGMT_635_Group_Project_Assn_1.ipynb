{
  "cells": [
    {
      "cell_type": "markdown",
      "metadata": {
        "id": "view-in-github",
        "colab_type": "text"
      },
      "source": [
        "<a href=\"https://colab.research.google.com/github/tarunteju2/German-Banking/blob/main/MGMT_635_Group_Project_Assn_1.ipynb\" target=\"_parent\"><img src=\"https://colab.research.google.com/assets/colab-badge.svg\" alt=\"Open In Colab\"/></a>"
      ]
    },
    {
      "cell_type": "markdown",
      "source": [
        "# Import Libararies"
      ],
      "metadata": {
        "id": "86elZ6lmj3fs"
      }
    },
    {
      "cell_type": "code",
      "execution_count": null,
      "metadata": {
        "id": "lNN9cIET11EB"
      },
      "outputs": [],
      "source": [
        "import numpy as np\n",
        "import pandas as pd\n",
        "\n",
        "from sklearn.neighbors import KNeighborsClassifier     #KNN\n",
        "from sklearn.linear_model import LogisticRegression    #Logistic Regression\n",
        "from sklearn.tree import DecisionTreeClassifier        #Decision Tree\n",
        "from sklearn.ensemble import RandomForestClassifier    #Random Forest\n",
        "from sklearn.neural_network import MLPClassifier       #Neural Network\n",
        "from sklearn.svm import SVC                            #SVM\n",
        "from sklearn.model_selection import train_test_split\n",
        "from sklearn.preprocessing import StandardScaler, MinMaxScaler\n",
        "from sklearn import tree\n",
        "import matplotlib.pylab as plt\n",
        "import graphviz\n",
        "\n",
        "%matplotlib inline\n",
        "%matplotlib inline\n"
      ]
    },
    {
      "cell_type": "markdown",
      "source": [
        "Some preliminary code has been provided. Please insert the code per instruction in the comments to complete the code."
      ],
      "metadata": {
        "id": "UzuuVSmfC06d"
      }
    },
    {
      "cell_type": "markdown",
      "source": [
        "# Load data"
      ],
      "metadata": {
        "id": "enASH7GVj-Fk"
      }
    },
    {
      "cell_type": "markdown",
      "source": [
        "Download the german-credit-card.csv file from the project handout and load it here.  The following is to test you on\n",
        "\n",
        "\n",
        "1.   Load your inputdata into Python notebook\n",
        "2.   You are using Colab Cloud, you need to work with a virtual computer in Cloud.  You need to upload the data into your virtual computer.\n",
        "\n",
        "You can do Internet search to figure out how to perform that.  I also provide you a reference implementation here (https://colab.research.google.com/drive/1p64pBc-GnvoNlm6ILIbAG8LegxtWNzH1: Mailing Data Preprocessing.ipynb)\n",
        "\n"
      ],
      "metadata": {
        "id": "x5MuTqQddoF_"
      }
    },
    {
      "cell_type": "code",
      "source": [
        "# Load the data into a pandas DataFrame\n",
        "credit_df = pd.read_csv('/content/german-credit-card.csv')"
      ],
      "metadata": {
        "id": "hoBeWv1F13kh"
      },
      "execution_count": null,
      "outputs": []
    },
    {
      "cell_type": "markdown",
      "source": [
        "# Show data information"
      ],
      "metadata": {
        "id": "ytB17Ya4drte"
      }
    },
    {
      "cell_type": "code",
      "execution_count": null,
      "metadata": {
        "id": "BqTFQ-l311ED",
        "outputId": "8ba5996d-7e30-43fa-c554-9d45e29fbc70",
        "colab": {
          "base_uri": "https://localhost:8080/",
          "height": 255
        }
      },
      "outputs": [
        {
          "output_type": "execute_result",
          "data": {
            "text/plain": [
              "  checkin_acc  duration credit_history purpose  amount saving_acc  \\\n",
              "0         A11         6            A34     A43    1169        A65   \n",
              "1         A12        48            A32     A43    5951        A61   \n",
              "2         A14        12            A34     A46    2096        A61   \n",
              "3         A11        42            A32     A42    7882        A61   \n",
              "4         A11        24            A33     A40    4870        A61   \n",
              "\n",
              "  present_emp_since  inst_rate personal_status other_debtors  ...  property  \\\n",
              "0               A75          4             A93          A101  ...      A121   \n",
              "1               A73          2             A92          A101  ...      A121   \n",
              "2               A74          2             A93          A101  ...      A121   \n",
              "3               A74          2             A93          A103  ...      A122   \n",
              "4               A73          3             A93          A101  ...      A124   \n",
              "\n",
              "  age  inst_plans housing num_credits   job dependents  telephone  \\\n",
              "0  67        A143    A152           2  A173          1       A192   \n",
              "1  22        A143    A152           1  A173          1       A191   \n",
              "2  49        A143    A152           1  A172          2       A191   \n",
              "3  45        A143    A153           1  A173          2       A191   \n",
              "4  53        A143    A153           2  A173          2       A191   \n",
              "\n",
              "  foreign_worker status  \n",
              "0           A201      1  \n",
              "1           A201      2  \n",
              "2           A201      1  \n",
              "3           A201      1  \n",
              "4           A201      2  \n",
              "\n",
              "[5 rows x 21 columns]"
            ],
            "text/html": [
              "\n",
              "  <div id=\"df-956a2d04-b8b8-4344-87b4-dc8fdcedd9a0\" class=\"colab-df-container\">\n",
              "    <div>\n",
              "<style scoped>\n",
              "    .dataframe tbody tr th:only-of-type {\n",
              "        vertical-align: middle;\n",
              "    }\n",
              "\n",
              "    .dataframe tbody tr th {\n",
              "        vertical-align: top;\n",
              "    }\n",
              "\n",
              "    .dataframe thead th {\n",
              "        text-align: right;\n",
              "    }\n",
              "</style>\n",
              "<table border=\"1\" class=\"dataframe\">\n",
              "  <thead>\n",
              "    <tr style=\"text-align: right;\">\n",
              "      <th></th>\n",
              "      <th>checkin_acc</th>\n",
              "      <th>duration</th>\n",
              "      <th>credit_history</th>\n",
              "      <th>purpose</th>\n",
              "      <th>amount</th>\n",
              "      <th>saving_acc</th>\n",
              "      <th>present_emp_since</th>\n",
              "      <th>inst_rate</th>\n",
              "      <th>personal_status</th>\n",
              "      <th>other_debtors</th>\n",
              "      <th>...</th>\n",
              "      <th>property</th>\n",
              "      <th>age</th>\n",
              "      <th>inst_plans</th>\n",
              "      <th>housing</th>\n",
              "      <th>num_credits</th>\n",
              "      <th>job</th>\n",
              "      <th>dependents</th>\n",
              "      <th>telephone</th>\n",
              "      <th>foreign_worker</th>\n",
              "      <th>status</th>\n",
              "    </tr>\n",
              "  </thead>\n",
              "  <tbody>\n",
              "    <tr>\n",
              "      <th>0</th>\n",
              "      <td>A11</td>\n",
              "      <td>6</td>\n",
              "      <td>A34</td>\n",
              "      <td>A43</td>\n",
              "      <td>1169</td>\n",
              "      <td>A65</td>\n",
              "      <td>A75</td>\n",
              "      <td>4</td>\n",
              "      <td>A93</td>\n",
              "      <td>A101</td>\n",
              "      <td>...</td>\n",
              "      <td>A121</td>\n",
              "      <td>67</td>\n",
              "      <td>A143</td>\n",
              "      <td>A152</td>\n",
              "      <td>2</td>\n",
              "      <td>A173</td>\n",
              "      <td>1</td>\n",
              "      <td>A192</td>\n",
              "      <td>A201</td>\n",
              "      <td>1</td>\n",
              "    </tr>\n",
              "    <tr>\n",
              "      <th>1</th>\n",
              "      <td>A12</td>\n",
              "      <td>48</td>\n",
              "      <td>A32</td>\n",
              "      <td>A43</td>\n",
              "      <td>5951</td>\n",
              "      <td>A61</td>\n",
              "      <td>A73</td>\n",
              "      <td>2</td>\n",
              "      <td>A92</td>\n",
              "      <td>A101</td>\n",
              "      <td>...</td>\n",
              "      <td>A121</td>\n",
              "      <td>22</td>\n",
              "      <td>A143</td>\n",
              "      <td>A152</td>\n",
              "      <td>1</td>\n",
              "      <td>A173</td>\n",
              "      <td>1</td>\n",
              "      <td>A191</td>\n",
              "      <td>A201</td>\n",
              "      <td>2</td>\n",
              "    </tr>\n",
              "    <tr>\n",
              "      <th>2</th>\n",
              "      <td>A14</td>\n",
              "      <td>12</td>\n",
              "      <td>A34</td>\n",
              "      <td>A46</td>\n",
              "      <td>2096</td>\n",
              "      <td>A61</td>\n",
              "      <td>A74</td>\n",
              "      <td>2</td>\n",
              "      <td>A93</td>\n",
              "      <td>A101</td>\n",
              "      <td>...</td>\n",
              "      <td>A121</td>\n",
              "      <td>49</td>\n",
              "      <td>A143</td>\n",
              "      <td>A152</td>\n",
              "      <td>1</td>\n",
              "      <td>A172</td>\n",
              "      <td>2</td>\n",
              "      <td>A191</td>\n",
              "      <td>A201</td>\n",
              "      <td>1</td>\n",
              "    </tr>\n",
              "    <tr>\n",
              "      <th>3</th>\n",
              "      <td>A11</td>\n",
              "      <td>42</td>\n",
              "      <td>A32</td>\n",
              "      <td>A42</td>\n",
              "      <td>7882</td>\n",
              "      <td>A61</td>\n",
              "      <td>A74</td>\n",
              "      <td>2</td>\n",
              "      <td>A93</td>\n",
              "      <td>A103</td>\n",
              "      <td>...</td>\n",
              "      <td>A122</td>\n",
              "      <td>45</td>\n",
              "      <td>A143</td>\n",
              "      <td>A153</td>\n",
              "      <td>1</td>\n",
              "      <td>A173</td>\n",
              "      <td>2</td>\n",
              "      <td>A191</td>\n",
              "      <td>A201</td>\n",
              "      <td>1</td>\n",
              "    </tr>\n",
              "    <tr>\n",
              "      <th>4</th>\n",
              "      <td>A11</td>\n",
              "      <td>24</td>\n",
              "      <td>A33</td>\n",
              "      <td>A40</td>\n",
              "      <td>4870</td>\n",
              "      <td>A61</td>\n",
              "      <td>A73</td>\n",
              "      <td>3</td>\n",
              "      <td>A93</td>\n",
              "      <td>A101</td>\n",
              "      <td>...</td>\n",
              "      <td>A124</td>\n",
              "      <td>53</td>\n",
              "      <td>A143</td>\n",
              "      <td>A153</td>\n",
              "      <td>2</td>\n",
              "      <td>A173</td>\n",
              "      <td>2</td>\n",
              "      <td>A191</td>\n",
              "      <td>A201</td>\n",
              "      <td>2</td>\n",
              "    </tr>\n",
              "  </tbody>\n",
              "</table>\n",
              "<p>5 rows × 21 columns</p>\n",
              "</div>\n",
              "    <div class=\"colab-df-buttons\">\n",
              "\n",
              "  <div class=\"colab-df-container\">\n",
              "    <button class=\"colab-df-convert\" onclick=\"convertToInteractive('df-956a2d04-b8b8-4344-87b4-dc8fdcedd9a0')\"\n",
              "            title=\"Convert this dataframe to an interactive table.\"\n",
              "            style=\"display:none;\">\n",
              "\n",
              "  <svg xmlns=\"http://www.w3.org/2000/svg\" height=\"24px\" viewBox=\"0 -960 960 960\">\n",
              "    <path d=\"M120-120v-720h720v720H120Zm60-500h600v-160H180v160Zm220 220h160v-160H400v160Zm0 220h160v-160H400v160ZM180-400h160v-160H180v160Zm440 0h160v-160H620v160ZM180-180h160v-160H180v160Zm440 0h160v-160H620v160Z\"/>\n",
              "  </svg>\n",
              "    </button>\n",
              "\n",
              "  <style>\n",
              "    .colab-df-container {\n",
              "      display:flex;\n",
              "      gap: 12px;\n",
              "    }\n",
              "\n",
              "    .colab-df-convert {\n",
              "      background-color: #E8F0FE;\n",
              "      border: none;\n",
              "      border-radius: 50%;\n",
              "      cursor: pointer;\n",
              "      display: none;\n",
              "      fill: #1967D2;\n",
              "      height: 32px;\n",
              "      padding: 0 0 0 0;\n",
              "      width: 32px;\n",
              "    }\n",
              "\n",
              "    .colab-df-convert:hover {\n",
              "      background-color: #E2EBFA;\n",
              "      box-shadow: 0px 1px 2px rgba(60, 64, 67, 0.3), 0px 1px 3px 1px rgba(60, 64, 67, 0.15);\n",
              "      fill: #174EA6;\n",
              "    }\n",
              "\n",
              "    .colab-df-buttons div {\n",
              "      margin-bottom: 4px;\n",
              "    }\n",
              "\n",
              "    [theme=dark] .colab-df-convert {\n",
              "      background-color: #3B4455;\n",
              "      fill: #D2E3FC;\n",
              "    }\n",
              "\n",
              "    [theme=dark] .colab-df-convert:hover {\n",
              "      background-color: #434B5C;\n",
              "      box-shadow: 0px 1px 3px 1px rgba(0, 0, 0, 0.15);\n",
              "      filter: drop-shadow(0px 1px 2px rgba(0, 0, 0, 0.3));\n",
              "      fill: #FFFFFF;\n",
              "    }\n",
              "  </style>\n",
              "\n",
              "    <script>\n",
              "      const buttonEl =\n",
              "        document.querySelector('#df-956a2d04-b8b8-4344-87b4-dc8fdcedd9a0 button.colab-df-convert');\n",
              "      buttonEl.style.display =\n",
              "        google.colab.kernel.accessAllowed ? 'block' : 'none';\n",
              "\n",
              "      async function convertToInteractive(key) {\n",
              "        const element = document.querySelector('#df-956a2d04-b8b8-4344-87b4-dc8fdcedd9a0');\n",
              "        const dataTable =\n",
              "          await google.colab.kernel.invokeFunction('convertToInteractive',\n",
              "                                                    [key], {});\n",
              "        if (!dataTable) return;\n",
              "\n",
              "        const docLinkHtml = 'Like what you see? Visit the ' +\n",
              "          '<a target=\"_blank\" href=https://colab.research.google.com/notebooks/data_table.ipynb>data table notebook</a>'\n",
              "          + ' to learn more about interactive tables.';\n",
              "        element.innerHTML = '';\n",
              "        dataTable['output_type'] = 'display_data';\n",
              "        await google.colab.output.renderOutput(dataTable, element);\n",
              "        const docLink = document.createElement('div');\n",
              "        docLink.innerHTML = docLinkHtml;\n",
              "        element.appendChild(docLink);\n",
              "      }\n",
              "    </script>\n",
              "  </div>\n",
              "\n",
              "\n",
              "<div id=\"df-02dd5ab9-5c1b-49ed-a674-d8cb3b3ae130\">\n",
              "  <button class=\"colab-df-quickchart\" onclick=\"quickchart('df-02dd5ab9-5c1b-49ed-a674-d8cb3b3ae130')\"\n",
              "            title=\"Suggest charts.\"\n",
              "            style=\"display:none;\">\n",
              "\n",
              "<svg xmlns=\"http://www.w3.org/2000/svg\" height=\"24px\"viewBox=\"0 0 24 24\"\n",
              "     width=\"24px\">\n",
              "    <g>\n",
              "        <path d=\"M19 3H5c-1.1 0-2 .9-2 2v14c0 1.1.9 2 2 2h14c1.1 0 2-.9 2-2V5c0-1.1-.9-2-2-2zM9 17H7v-7h2v7zm4 0h-2V7h2v10zm4 0h-2v-4h2v4z\"/>\n",
              "    </g>\n",
              "</svg>\n",
              "  </button>\n",
              "\n",
              "<style>\n",
              "  .colab-df-quickchart {\n",
              "      --bg-color: #E8F0FE;\n",
              "      --fill-color: #1967D2;\n",
              "      --hover-bg-color: #E2EBFA;\n",
              "      --hover-fill-color: #174EA6;\n",
              "      --disabled-fill-color: #AAA;\n",
              "      --disabled-bg-color: #DDD;\n",
              "  }\n",
              "\n",
              "  [theme=dark] .colab-df-quickchart {\n",
              "      --bg-color: #3B4455;\n",
              "      --fill-color: #D2E3FC;\n",
              "      --hover-bg-color: #434B5C;\n",
              "      --hover-fill-color: #FFFFFF;\n",
              "      --disabled-bg-color: #3B4455;\n",
              "      --disabled-fill-color: #666;\n",
              "  }\n",
              "\n",
              "  .colab-df-quickchart {\n",
              "    background-color: var(--bg-color);\n",
              "    border: none;\n",
              "    border-radius: 50%;\n",
              "    cursor: pointer;\n",
              "    display: none;\n",
              "    fill: var(--fill-color);\n",
              "    height: 32px;\n",
              "    padding: 0;\n",
              "    width: 32px;\n",
              "  }\n",
              "\n",
              "  .colab-df-quickchart:hover {\n",
              "    background-color: var(--hover-bg-color);\n",
              "    box-shadow: 0 1px 2px rgba(60, 64, 67, 0.3), 0 1px 3px 1px rgba(60, 64, 67, 0.15);\n",
              "    fill: var(--button-hover-fill-color);\n",
              "  }\n",
              "\n",
              "  .colab-df-quickchart-complete:disabled,\n",
              "  .colab-df-quickchart-complete:disabled:hover {\n",
              "    background-color: var(--disabled-bg-color);\n",
              "    fill: var(--disabled-fill-color);\n",
              "    box-shadow: none;\n",
              "  }\n",
              "\n",
              "  .colab-df-spinner {\n",
              "    border: 2px solid var(--fill-color);\n",
              "    border-color: transparent;\n",
              "    border-bottom-color: var(--fill-color);\n",
              "    animation:\n",
              "      spin 1s steps(1) infinite;\n",
              "  }\n",
              "\n",
              "  @keyframes spin {\n",
              "    0% {\n",
              "      border-color: transparent;\n",
              "      border-bottom-color: var(--fill-color);\n",
              "      border-left-color: var(--fill-color);\n",
              "    }\n",
              "    20% {\n",
              "      border-color: transparent;\n",
              "      border-left-color: var(--fill-color);\n",
              "      border-top-color: var(--fill-color);\n",
              "    }\n",
              "    30% {\n",
              "      border-color: transparent;\n",
              "      border-left-color: var(--fill-color);\n",
              "      border-top-color: var(--fill-color);\n",
              "      border-right-color: var(--fill-color);\n",
              "    }\n",
              "    40% {\n",
              "      border-color: transparent;\n",
              "      border-right-color: var(--fill-color);\n",
              "      border-top-color: var(--fill-color);\n",
              "    }\n",
              "    60% {\n",
              "      border-color: transparent;\n",
              "      border-right-color: var(--fill-color);\n",
              "    }\n",
              "    80% {\n",
              "      border-color: transparent;\n",
              "      border-right-color: var(--fill-color);\n",
              "      border-bottom-color: var(--fill-color);\n",
              "    }\n",
              "    90% {\n",
              "      border-color: transparent;\n",
              "      border-bottom-color: var(--fill-color);\n",
              "    }\n",
              "  }\n",
              "</style>\n",
              "\n",
              "  <script>\n",
              "    async function quickchart(key) {\n",
              "      const quickchartButtonEl =\n",
              "        document.querySelector('#' + key + ' button');\n",
              "      quickchartButtonEl.disabled = true;  // To prevent multiple clicks.\n",
              "      quickchartButtonEl.classList.add('colab-df-spinner');\n",
              "      try {\n",
              "        const charts = await google.colab.kernel.invokeFunction(\n",
              "            'suggestCharts', [key], {});\n",
              "      } catch (error) {\n",
              "        console.error('Error during call to suggestCharts:', error);\n",
              "      }\n",
              "      quickchartButtonEl.classList.remove('colab-df-spinner');\n",
              "      quickchartButtonEl.classList.add('colab-df-quickchart-complete');\n",
              "    }\n",
              "    (() => {\n",
              "      let quickchartButtonEl =\n",
              "        document.querySelector('#df-02dd5ab9-5c1b-49ed-a674-d8cb3b3ae130 button');\n",
              "      quickchartButtonEl.style.display =\n",
              "        google.colab.kernel.accessAllowed ? 'block' : 'none';\n",
              "    })();\n",
              "  </script>\n",
              "</div>\n",
              "    </div>\n",
              "  </div>\n"
            ]
          },
          "metadata": {},
          "execution_count": 118
        }
      ],
      "source": [
        "#look at the first five rows of the data\n",
        "credit_df.head()"
      ]
    },
    {
      "cell_type": "code",
      "execution_count": null,
      "metadata": {
        "id": "5doZLyO311ED",
        "outputId": "810f43c2-1a09-4cb3-d2e2-2b36321efb47",
        "colab": {
          "base_uri": "https://localhost:8080/"
        }
      },
      "outputs": [
        {
          "output_type": "stream",
          "name": "stdout",
          "text": [
            "['Good', 'Bad']\n"
          ]
        },
        {
          "output_type": "stream",
          "name": "stderr",
          "text": [
            "<ipython-input-119-2dde0a673ff8>:1: UserWarning: Pandas doesn't allow columns to be created via a new attribute name - see https://pandas.pydata.org/pandas-docs/stable/indexing.html#attribute-access\n",
            "  credit_df.target_names= ['Good', 'Bad']\n"
          ]
        }
      ],
      "source": [
        "credit_df.target_names= ['Good', 'Bad']\n",
        "print(credit_df.target_names)"
      ]
    },
    {
      "cell_type": "code",
      "execution_count": null,
      "metadata": {
        "id": "cqe6d9K111ED",
        "outputId": "88698162-8bef-4354-b91f-953db4301dd8",
        "colab": {
          "base_uri": "https://localhost:8080/"
        }
      },
      "outputs": [
        {
          "output_type": "stream",
          "name": "stdout",
          "text": [
            "<class 'pandas.core.frame.DataFrame'>\n",
            "RangeIndex: 1000 entries, 0 to 999\n",
            "Data columns (total 21 columns):\n",
            " #   Column             Non-Null Count  Dtype \n",
            "---  ------             --------------  ----- \n",
            " 0   checkin_acc        1000 non-null   object\n",
            " 1   duration           1000 non-null   int64 \n",
            " 2   credit_history     1000 non-null   object\n",
            " 3   purpose            1000 non-null   object\n",
            " 4   amount             1000 non-null   int64 \n",
            " 5   saving_acc         1000 non-null   object\n",
            " 6   present_emp_since  1000 non-null   object\n",
            " 7   inst_rate          1000 non-null   int64 \n",
            " 8   personal_status    1000 non-null   object\n",
            " 9   other_debtors      1000 non-null   object\n",
            " 10  residing_since     1000 non-null   int64 \n",
            " 11  property           1000 non-null   object\n",
            " 12  age                1000 non-null   int64 \n",
            " 13  inst_plans         1000 non-null   object\n",
            " 14  housing            1000 non-null   object\n",
            " 15  num_credits        1000 non-null   int64 \n",
            " 16  job                1000 non-null   object\n",
            " 17  dependents         1000 non-null   int64 \n",
            " 18  telephone          1000 non-null   object\n",
            " 19  foreign_worker     1000 non-null   object\n",
            " 20  status             1000 non-null   int64 \n",
            "dtypes: int64(8), object(13)\n",
            "memory usage: 164.2+ KB\n"
          ]
        }
      ],
      "source": [
        "credit_df.info()"
      ]
    },
    {
      "cell_type": "markdown",
      "source": [
        "## Data preprocessing"
      ],
      "metadata": {
        "id": "1oVOtcIVm-DO"
      }
    },
    {
      "cell_type": "markdown",
      "source": [
        "### Remove target from model training"
      ],
      "metadata": {
        "id": "UQ9ivAgym1kF"
      }
    },
    {
      "cell_type": "markdown",
      "source": [
        "Feature 'status' is what the model needs to predict. Remove it  to create the feature array to train the model"
      ],
      "metadata": {
        "id": "LdOIlU9vfgX0"
      }
    },
    {
      "cell_type": "code",
      "execution_count": null,
      "metadata": {
        "id": "Wf-J2juL11ED",
        "outputId": "b6bab751-609b-497e-fa25-e635cb2e7286",
        "colab": {
          "base_uri": "https://localhost:8080/"
        }
      },
      "outputs": [
        {
          "output_type": "execute_result",
          "data": {
            "text/plain": [
              "['checkin_acc',\n",
              " 'duration',\n",
              " 'credit_history',\n",
              " 'purpose',\n",
              " 'amount',\n",
              " 'saving_acc',\n",
              " 'present_emp_since',\n",
              " 'inst_rate',\n",
              " 'personal_status',\n",
              " 'other_debtors',\n",
              " 'residing_since',\n",
              " 'property',\n",
              " 'age',\n",
              " 'inst_plans',\n",
              " 'housing',\n",
              " 'num_credits',\n",
              " 'job',\n",
              " 'dependents',\n",
              " 'telephone',\n",
              " 'foreign_worker']"
            ]
          },
          "metadata": {},
          "execution_count": 121
        }
      ],
      "source": [
        "X_features = list( credit_df.columns )\n",
        "X_features.remove( 'status' )\n",
        "X_features"
      ]
    },
    {
      "cell_type": "markdown",
      "source": [
        "## Create dummy variables for categorical values."
      ],
      "metadata": {
        "id": "QSb6KSyMeRtK"
      }
    },
    {
      "cell_type": "code",
      "execution_count": null,
      "metadata": {
        "id": "-FLxRCjk11ED"
      },
      "outputs": [],
      "source": [
        "# insert the code to create dummy variable for categorical features. Hint: See MailingData_Preprocessing for example.\n",
        "credit_df_complete = pd.get_dummies(credit_df[X_features])"
      ]
    },
    {
      "cell_type": "code",
      "execution_count": null,
      "metadata": {
        "id": "NwUi8s6v11ED",
        "outputId": "a287c29e-2103-4982-8bd0-ee305d7415eb",
        "colab": {
          "base_uri": "https://localhost:8080/",
          "height": 255
        }
      },
      "outputs": [
        {
          "output_type": "execute_result",
          "data": {
            "text/plain": [
              "   duration  amount  inst_rate  residing_since  age  num_credits  dependents  \\\n",
              "0         6    1169          4               4   67            2           1   \n",
              "1        48    5951          2               2   22            1           1   \n",
              "2        12    2096          2               3   49            1           2   \n",
              "3        42    7882          2               4   45            1           2   \n",
              "4        24    4870          3               4   53            2           2   \n",
              "\n",
              "   checkin_acc_A11  checkin_acc_A12  checkin_acc_A13  ...  housing_A152  \\\n",
              "0                1                0                0  ...             1   \n",
              "1                0                1                0  ...             1   \n",
              "2                0                0                0  ...             1   \n",
              "3                1                0                0  ...             0   \n",
              "4                1                0                0  ...             0   \n",
              "\n",
              "   housing_A153  job_A171  job_A172  job_A173  job_A174  telephone_A191  \\\n",
              "0             0         0         0         1         0               0   \n",
              "1             0         0         0         1         0               1   \n",
              "2             0         0         1         0         0               1   \n",
              "3             1         0         0         1         0               1   \n",
              "4             1         0         0         1         0               1   \n",
              "\n",
              "   telephone_A192  foreign_worker_A201  foreign_worker_A202  \n",
              "0               1                    1                    0  \n",
              "1               0                    1                    0  \n",
              "2               0                    1                    0  \n",
              "3               0                    1                    0  \n",
              "4               0                    1                    0  \n",
              "\n",
              "[5 rows x 61 columns]"
            ],
            "text/html": [
              "\n",
              "  <div id=\"df-7fe17be9-05ca-4625-911b-c6d51f184a02\" class=\"colab-df-container\">\n",
              "    <div>\n",
              "<style scoped>\n",
              "    .dataframe tbody tr th:only-of-type {\n",
              "        vertical-align: middle;\n",
              "    }\n",
              "\n",
              "    .dataframe tbody tr th {\n",
              "        vertical-align: top;\n",
              "    }\n",
              "\n",
              "    .dataframe thead th {\n",
              "        text-align: right;\n",
              "    }\n",
              "</style>\n",
              "<table border=\"1\" class=\"dataframe\">\n",
              "  <thead>\n",
              "    <tr style=\"text-align: right;\">\n",
              "      <th></th>\n",
              "      <th>duration</th>\n",
              "      <th>amount</th>\n",
              "      <th>inst_rate</th>\n",
              "      <th>residing_since</th>\n",
              "      <th>age</th>\n",
              "      <th>num_credits</th>\n",
              "      <th>dependents</th>\n",
              "      <th>checkin_acc_A11</th>\n",
              "      <th>checkin_acc_A12</th>\n",
              "      <th>checkin_acc_A13</th>\n",
              "      <th>...</th>\n",
              "      <th>housing_A152</th>\n",
              "      <th>housing_A153</th>\n",
              "      <th>job_A171</th>\n",
              "      <th>job_A172</th>\n",
              "      <th>job_A173</th>\n",
              "      <th>job_A174</th>\n",
              "      <th>telephone_A191</th>\n",
              "      <th>telephone_A192</th>\n",
              "      <th>foreign_worker_A201</th>\n",
              "      <th>foreign_worker_A202</th>\n",
              "    </tr>\n",
              "  </thead>\n",
              "  <tbody>\n",
              "    <tr>\n",
              "      <th>0</th>\n",
              "      <td>6</td>\n",
              "      <td>1169</td>\n",
              "      <td>4</td>\n",
              "      <td>4</td>\n",
              "      <td>67</td>\n",
              "      <td>2</td>\n",
              "      <td>1</td>\n",
              "      <td>1</td>\n",
              "      <td>0</td>\n",
              "      <td>0</td>\n",
              "      <td>...</td>\n",
              "      <td>1</td>\n",
              "      <td>0</td>\n",
              "      <td>0</td>\n",
              "      <td>0</td>\n",
              "      <td>1</td>\n",
              "      <td>0</td>\n",
              "      <td>0</td>\n",
              "      <td>1</td>\n",
              "      <td>1</td>\n",
              "      <td>0</td>\n",
              "    </tr>\n",
              "    <tr>\n",
              "      <th>1</th>\n",
              "      <td>48</td>\n",
              "      <td>5951</td>\n",
              "      <td>2</td>\n",
              "      <td>2</td>\n",
              "      <td>22</td>\n",
              "      <td>1</td>\n",
              "      <td>1</td>\n",
              "      <td>0</td>\n",
              "      <td>1</td>\n",
              "      <td>0</td>\n",
              "      <td>...</td>\n",
              "      <td>1</td>\n",
              "      <td>0</td>\n",
              "      <td>0</td>\n",
              "      <td>0</td>\n",
              "      <td>1</td>\n",
              "      <td>0</td>\n",
              "      <td>1</td>\n",
              "      <td>0</td>\n",
              "      <td>1</td>\n",
              "      <td>0</td>\n",
              "    </tr>\n",
              "    <tr>\n",
              "      <th>2</th>\n",
              "      <td>12</td>\n",
              "      <td>2096</td>\n",
              "      <td>2</td>\n",
              "      <td>3</td>\n",
              "      <td>49</td>\n",
              "      <td>1</td>\n",
              "      <td>2</td>\n",
              "      <td>0</td>\n",
              "      <td>0</td>\n",
              "      <td>0</td>\n",
              "      <td>...</td>\n",
              "      <td>1</td>\n",
              "      <td>0</td>\n",
              "      <td>0</td>\n",
              "      <td>1</td>\n",
              "      <td>0</td>\n",
              "      <td>0</td>\n",
              "      <td>1</td>\n",
              "      <td>0</td>\n",
              "      <td>1</td>\n",
              "      <td>0</td>\n",
              "    </tr>\n",
              "    <tr>\n",
              "      <th>3</th>\n",
              "      <td>42</td>\n",
              "      <td>7882</td>\n",
              "      <td>2</td>\n",
              "      <td>4</td>\n",
              "      <td>45</td>\n",
              "      <td>1</td>\n",
              "      <td>2</td>\n",
              "      <td>1</td>\n",
              "      <td>0</td>\n",
              "      <td>0</td>\n",
              "      <td>...</td>\n",
              "      <td>0</td>\n",
              "      <td>1</td>\n",
              "      <td>0</td>\n",
              "      <td>0</td>\n",
              "      <td>1</td>\n",
              "      <td>0</td>\n",
              "      <td>1</td>\n",
              "      <td>0</td>\n",
              "      <td>1</td>\n",
              "      <td>0</td>\n",
              "    </tr>\n",
              "    <tr>\n",
              "      <th>4</th>\n",
              "      <td>24</td>\n",
              "      <td>4870</td>\n",
              "      <td>3</td>\n",
              "      <td>4</td>\n",
              "      <td>53</td>\n",
              "      <td>2</td>\n",
              "      <td>2</td>\n",
              "      <td>1</td>\n",
              "      <td>0</td>\n",
              "      <td>0</td>\n",
              "      <td>...</td>\n",
              "      <td>0</td>\n",
              "      <td>1</td>\n",
              "      <td>0</td>\n",
              "      <td>0</td>\n",
              "      <td>1</td>\n",
              "      <td>0</td>\n",
              "      <td>1</td>\n",
              "      <td>0</td>\n",
              "      <td>1</td>\n",
              "      <td>0</td>\n",
              "    </tr>\n",
              "  </tbody>\n",
              "</table>\n",
              "<p>5 rows × 61 columns</p>\n",
              "</div>\n",
              "    <div class=\"colab-df-buttons\">\n",
              "\n",
              "  <div class=\"colab-df-container\">\n",
              "    <button class=\"colab-df-convert\" onclick=\"convertToInteractive('df-7fe17be9-05ca-4625-911b-c6d51f184a02')\"\n",
              "            title=\"Convert this dataframe to an interactive table.\"\n",
              "            style=\"display:none;\">\n",
              "\n",
              "  <svg xmlns=\"http://www.w3.org/2000/svg\" height=\"24px\" viewBox=\"0 -960 960 960\">\n",
              "    <path d=\"M120-120v-720h720v720H120Zm60-500h600v-160H180v160Zm220 220h160v-160H400v160Zm0 220h160v-160H400v160ZM180-400h160v-160H180v160Zm440 0h160v-160H620v160ZM180-180h160v-160H180v160Zm440 0h160v-160H620v160Z\"/>\n",
              "  </svg>\n",
              "    </button>\n",
              "\n",
              "  <style>\n",
              "    .colab-df-container {\n",
              "      display:flex;\n",
              "      gap: 12px;\n",
              "    }\n",
              "\n",
              "    .colab-df-convert {\n",
              "      background-color: #E8F0FE;\n",
              "      border: none;\n",
              "      border-radius: 50%;\n",
              "      cursor: pointer;\n",
              "      display: none;\n",
              "      fill: #1967D2;\n",
              "      height: 32px;\n",
              "      padding: 0 0 0 0;\n",
              "      width: 32px;\n",
              "    }\n",
              "\n",
              "    .colab-df-convert:hover {\n",
              "      background-color: #E2EBFA;\n",
              "      box-shadow: 0px 1px 2px rgba(60, 64, 67, 0.3), 0px 1px 3px 1px rgba(60, 64, 67, 0.15);\n",
              "      fill: #174EA6;\n",
              "    }\n",
              "\n",
              "    .colab-df-buttons div {\n",
              "      margin-bottom: 4px;\n",
              "    }\n",
              "\n",
              "    [theme=dark] .colab-df-convert {\n",
              "      background-color: #3B4455;\n",
              "      fill: #D2E3FC;\n",
              "    }\n",
              "\n",
              "    [theme=dark] .colab-df-convert:hover {\n",
              "      background-color: #434B5C;\n",
              "      box-shadow: 0px 1px 3px 1px rgba(0, 0, 0, 0.15);\n",
              "      filter: drop-shadow(0px 1px 2px rgba(0, 0, 0, 0.3));\n",
              "      fill: #FFFFFF;\n",
              "    }\n",
              "  </style>\n",
              "\n",
              "    <script>\n",
              "      const buttonEl =\n",
              "        document.querySelector('#df-7fe17be9-05ca-4625-911b-c6d51f184a02 button.colab-df-convert');\n",
              "      buttonEl.style.display =\n",
              "        google.colab.kernel.accessAllowed ? 'block' : 'none';\n",
              "\n",
              "      async function convertToInteractive(key) {\n",
              "        const element = document.querySelector('#df-7fe17be9-05ca-4625-911b-c6d51f184a02');\n",
              "        const dataTable =\n",
              "          await google.colab.kernel.invokeFunction('convertToInteractive',\n",
              "                                                    [key], {});\n",
              "        if (!dataTable) return;\n",
              "\n",
              "        const docLinkHtml = 'Like what you see? Visit the ' +\n",
              "          '<a target=\"_blank\" href=https://colab.research.google.com/notebooks/data_table.ipynb>data table notebook</a>'\n",
              "          + ' to learn more about interactive tables.';\n",
              "        element.innerHTML = '';\n",
              "        dataTable['output_type'] = 'display_data';\n",
              "        await google.colab.output.renderOutput(dataTable, element);\n",
              "        const docLink = document.createElement('div');\n",
              "        docLink.innerHTML = docLinkHtml;\n",
              "        element.appendChild(docLink);\n",
              "      }\n",
              "    </script>\n",
              "  </div>\n",
              "\n",
              "\n",
              "<div id=\"df-ec17326b-c5c8-4ac9-aab4-543796436cbc\">\n",
              "  <button class=\"colab-df-quickchart\" onclick=\"quickchart('df-ec17326b-c5c8-4ac9-aab4-543796436cbc')\"\n",
              "            title=\"Suggest charts.\"\n",
              "            style=\"display:none;\">\n",
              "\n",
              "<svg xmlns=\"http://www.w3.org/2000/svg\" height=\"24px\"viewBox=\"0 0 24 24\"\n",
              "     width=\"24px\">\n",
              "    <g>\n",
              "        <path d=\"M19 3H5c-1.1 0-2 .9-2 2v14c0 1.1.9 2 2 2h14c1.1 0 2-.9 2-2V5c0-1.1-.9-2-2-2zM9 17H7v-7h2v7zm4 0h-2V7h2v10zm4 0h-2v-4h2v4z\"/>\n",
              "    </g>\n",
              "</svg>\n",
              "  </button>\n",
              "\n",
              "<style>\n",
              "  .colab-df-quickchart {\n",
              "      --bg-color: #E8F0FE;\n",
              "      --fill-color: #1967D2;\n",
              "      --hover-bg-color: #E2EBFA;\n",
              "      --hover-fill-color: #174EA6;\n",
              "      --disabled-fill-color: #AAA;\n",
              "      --disabled-bg-color: #DDD;\n",
              "  }\n",
              "\n",
              "  [theme=dark] .colab-df-quickchart {\n",
              "      --bg-color: #3B4455;\n",
              "      --fill-color: #D2E3FC;\n",
              "      --hover-bg-color: #434B5C;\n",
              "      --hover-fill-color: #FFFFFF;\n",
              "      --disabled-bg-color: #3B4455;\n",
              "      --disabled-fill-color: #666;\n",
              "  }\n",
              "\n",
              "  .colab-df-quickchart {\n",
              "    background-color: var(--bg-color);\n",
              "    border: none;\n",
              "    border-radius: 50%;\n",
              "    cursor: pointer;\n",
              "    display: none;\n",
              "    fill: var(--fill-color);\n",
              "    height: 32px;\n",
              "    padding: 0;\n",
              "    width: 32px;\n",
              "  }\n",
              "\n",
              "  .colab-df-quickchart:hover {\n",
              "    background-color: var(--hover-bg-color);\n",
              "    box-shadow: 0 1px 2px rgba(60, 64, 67, 0.3), 0 1px 3px 1px rgba(60, 64, 67, 0.15);\n",
              "    fill: var(--button-hover-fill-color);\n",
              "  }\n",
              "\n",
              "  .colab-df-quickchart-complete:disabled,\n",
              "  .colab-df-quickchart-complete:disabled:hover {\n",
              "    background-color: var(--disabled-bg-color);\n",
              "    fill: var(--disabled-fill-color);\n",
              "    box-shadow: none;\n",
              "  }\n",
              "\n",
              "  .colab-df-spinner {\n",
              "    border: 2px solid var(--fill-color);\n",
              "    border-color: transparent;\n",
              "    border-bottom-color: var(--fill-color);\n",
              "    animation:\n",
              "      spin 1s steps(1) infinite;\n",
              "  }\n",
              "\n",
              "  @keyframes spin {\n",
              "    0% {\n",
              "      border-color: transparent;\n",
              "      border-bottom-color: var(--fill-color);\n",
              "      border-left-color: var(--fill-color);\n",
              "    }\n",
              "    20% {\n",
              "      border-color: transparent;\n",
              "      border-left-color: var(--fill-color);\n",
              "      border-top-color: var(--fill-color);\n",
              "    }\n",
              "    30% {\n",
              "      border-color: transparent;\n",
              "      border-left-color: var(--fill-color);\n",
              "      border-top-color: var(--fill-color);\n",
              "      border-right-color: var(--fill-color);\n",
              "    }\n",
              "    40% {\n",
              "      border-color: transparent;\n",
              "      border-right-color: var(--fill-color);\n",
              "      border-top-color: var(--fill-color);\n",
              "    }\n",
              "    60% {\n",
              "      border-color: transparent;\n",
              "      border-right-color: var(--fill-color);\n",
              "    }\n",
              "    80% {\n",
              "      border-color: transparent;\n",
              "      border-right-color: var(--fill-color);\n",
              "      border-bottom-color: var(--fill-color);\n",
              "    }\n",
              "    90% {\n",
              "      border-color: transparent;\n",
              "      border-bottom-color: var(--fill-color);\n",
              "    }\n",
              "  }\n",
              "</style>\n",
              "\n",
              "  <script>\n",
              "    async function quickchart(key) {\n",
              "      const quickchartButtonEl =\n",
              "        document.querySelector('#' + key + ' button');\n",
              "      quickchartButtonEl.disabled = true;  // To prevent multiple clicks.\n",
              "      quickchartButtonEl.classList.add('colab-df-spinner');\n",
              "      try {\n",
              "        const charts = await google.colab.kernel.invokeFunction(\n",
              "            'suggestCharts', [key], {});\n",
              "      } catch (error) {\n",
              "        console.error('Error during call to suggestCharts:', error);\n",
              "      }\n",
              "      quickchartButtonEl.classList.remove('colab-df-spinner');\n",
              "      quickchartButtonEl.classList.add('colab-df-quickchart-complete');\n",
              "    }\n",
              "    (() => {\n",
              "      let quickchartButtonEl =\n",
              "        document.querySelector('#df-ec17326b-c5c8-4ac9-aab4-543796436cbc button');\n",
              "      quickchartButtonEl.style.display =\n",
              "        google.colab.kernel.accessAllowed ? 'block' : 'none';\n",
              "    })();\n",
              "  </script>\n",
              "</div>\n",
              "    </div>\n",
              "  </div>\n"
            ]
          },
          "metadata": {},
          "execution_count": 123
        }
      ],
      "source": [
        "credit_df_complete.head()"
      ]
    },
    {
      "cell_type": "code",
      "execution_count": null,
      "metadata": {
        "id": "HavOhSub11EE",
        "outputId": "789ea868-833f-4752-c649-5377cdb65542",
        "colab": {
          "base_uri": "https://localhost:8080/"
        }
      },
      "outputs": [
        {
          "output_type": "execute_result",
          "data": {
            "text/plain": [
              "61"
            ]
          },
          "metadata": {},
          "execution_count": 124
        }
      ],
      "source": [
        "len(credit_df_complete.columns) #print the number of columns"
      ]
    },
    {
      "cell_type": "markdown",
      "source": [
        "## Convert the credit rating (1 = Good, 2 = Bad) to value 0 or 1 for binary prediction labels"
      ],
      "metadata": {
        "id": "72B6ELjXejYQ"
      }
    },
    {
      "cell_type": "code",
      "execution_count": null,
      "metadata": {
        "id": "dg_8gAWp11EE"
      },
      "outputs": [],
      "source": [
        "#Change the reponse variable to 0 = Good and 1 = Bad\n",
        "Y = credit_df.status - 1\n",
        "X = credit_df_complete"
      ]
    },
    {
      "cell_type": "markdown",
      "source": [
        "## Split the data for training and testing"
      ],
      "metadata": {
        "id": "QQsB0p96f3Ae"
      }
    },
    {
      "cell_type": "code",
      "source": [
        "# Insert the code to split the data for training and testing set. Hint: see BreastCancerData_Preprocessing for example\n",
        "X_train, X_test, Y_train, Y_test = train_test_split(X, Y, test_size=0.1)"
      ],
      "metadata": {
        "id": "athAGnnzF_uX"
      },
      "execution_count": null,
      "outputs": []
    },
    {
      "cell_type": "markdown",
      "source": [
        "## Standardize the data"
      ],
      "metadata": {
        "id": "u8CNxrpDgF1f"
      }
    },
    {
      "cell_type": "code",
      "source": [
        "# Insert the code to standardize the data. Hint: see BreastCancerData_Preprocessing for example.\n",
        "scaler = StandardScaler()\n",
        "\n",
        "# Fit on training set only.\n",
        "scaler.fit(X_train)\n",
        "\n",
        "# Apply transform to both the training set and the test set.\n",
        "X_train = scaler.transform(X_train)\n",
        "X_test = scaler.transform(X_test)"
      ],
      "metadata": {
        "id": "7fi_wn43MMA6"
      },
      "execution_count": null,
      "outputs": []
    },
    {
      "cell_type": "markdown",
      "source": [
        "## Feature Analysis"
      ],
      "metadata": {
        "id": "yZtzxOXi6-Dm"
      }
    },
    {
      "cell_type": "code",
      "source": [
        "# Compute correlation between features and the target, and sort them by absolute value\n",
        "correlation_matrix = pd.DataFrame(X, columns=credit_df_complete.columns).corrwith(Y).abs().sort_values(ascending=False)\n",
        "\n",
        "# Display all correlations sorted by absolute value\n",
        "pd.set_option('display.max_rows', None)\n",
        "print(correlation_matrix)"
      ],
      "metadata": {
        "colab": {
          "base_uri": "https://localhost:8080/"
        },
        "id": "H8BSLZAI7otZ",
        "outputId": "62fe5c3a-010b-4698-c601-d7d017c92d41"
      },
      "execution_count": null,
      "outputs": [
        {
          "output_type": "stream",
          "name": "stdout",
          "text": [
            "checkin_acc_A14          0.322436\n",
            "checkin_acc_A11          0.258333\n",
            "duration                 0.214927\n",
            "credit_history_A34       0.181713\n",
            "saving_acc_A61           0.161007\n",
            "amount                   0.154739\n",
            "credit_history_A30       0.144767\n",
            "housing_A152             0.134589\n",
            "credit_history_A31       0.134448\n",
            "saving_acc_A65           0.129238\n",
            "property_A124            0.125750\n",
            "checkin_acc_A12          0.119581\n",
            "property_A121            0.119300\n",
            "inst_plans_A143          0.113285\n",
            "purpose_A43              0.106922\n",
            "present_emp_since_A72    0.106397\n",
            "purpose_A41              0.099791\n",
            "purpose_A40              0.096900\n",
            "inst_plans_A141          0.096510\n",
            "housing_A151             0.092785\n",
            "age                      0.091127\n",
            "saving_acc_A64           0.085749\n",
            "foreign_worker_A201      0.082079\n",
            "foreign_worker_A202      0.082079\n",
            "housing_A153             0.081556\n",
            "personal_status_A93      0.080677\n",
            "present_emp_since_A74    0.075980\n",
            "personal_status_A92      0.075493\n",
            "inst_rate                0.072404\n",
            "saving_acc_A63           0.070954\n",
            "purpose_A46              0.070088\n",
            "other_debtors_A102       0.062728\n",
            "present_emp_since_A75    0.059733\n",
            "other_debtors_A103       0.055039\n",
            "inst_plans_A142          0.050523\n",
            "personal_status_A91      0.050063\n",
            "num_credits              0.045732\n",
            "checkin_acc_A13          0.044009\n",
            "credit_history_A32       0.043722\n",
            "job_A174                 0.040559\n",
            "present_emp_since_A71    0.039815\n",
            "purpose_A48              0.039281\n",
            "telephone_A192           0.036466\n",
            "telephone_A191           0.036466\n",
            "purpose_A49              0.036129\n",
            "purpose_A410             0.028058\n",
            "saving_acc_A62           0.022255\n",
            "job_A172                 0.021822\n",
            "purpose_A42              0.020971\n",
            "purpose_A45              0.020828\n",
            "personal_status_A94      0.019630\n",
            "job_A173                 0.013559\n",
            "credit_history_A33       0.012325\n",
            "property_A123            0.011121\n",
            "present_emp_since_A73    0.010603\n",
            "purpose_A44              0.008016\n",
            "property_A122            0.007238\n",
            "job_A171                 0.005951\n",
            "dependents               0.003015\n",
            "residing_since           0.002967\n",
            "other_debtors_A101       0.000751\n",
            "dtype: float64\n"
          ]
        }
      ]
    },
    {
      "cell_type": "code",
      "source": [
        "# Filter features based on correlation score\n",
        "selected_features = correlation_matrix[correlation_matrix > 0.08].index.tolist()\n",
        "\n",
        "# Reset display option\n",
        "pd.reset_option('display.max_rows')\n",
        "\n",
        "# Print the selected features\n",
        "print(selected_features)\n",
        "\n",
        "# Create final training and testing sets with selected features\n",
        "X_train_final = pd.DataFrame(X_train, columns=credit_df_complete.columns)[selected_features]\n",
        "X_test_final = pd.DataFrame(X_test, columns=credit_df_complete.columns)[selected_features]"
      ],
      "metadata": {
        "colab": {
          "base_uri": "https://localhost:8080/"
        },
        "id": "aIpDExQ29dTY",
        "outputId": "8656737f-6455-4aa6-8991-55f0bcfc7a48"
      },
      "execution_count": null,
      "outputs": [
        {
          "output_type": "stream",
          "name": "stdout",
          "text": [
            "['checkin_acc_A14', 'checkin_acc_A11', 'duration', 'credit_history_A34', 'saving_acc_A61', 'amount', 'credit_history_A30', 'housing_A152', 'credit_history_A31', 'saving_acc_A65', 'property_A124', 'checkin_acc_A12', 'property_A121', 'inst_plans_A143', 'purpose_A43', 'present_emp_since_A72', 'purpose_A41', 'purpose_A40', 'inst_plans_A141', 'housing_A151', 'age', 'saving_acc_A64', 'foreign_worker_A201', 'foreign_worker_A202', 'housing_A153', 'personal_status_A93']\n"
          ]
        }
      ]
    },
    {
      "cell_type": "markdown",
      "source": [
        "# Build Machine learning models (see Module 4 and 5 examples)"
      ],
      "metadata": {
        "id": "pogAWU-QgObT"
      }
    },
    {
      "cell_type": "markdown",
      "source": [
        "### Using Logistic Regression model (without selected features)"
      ],
      "metadata": {
        "id": "09Vd_W_YBaAI"
      }
    },
    {
      "cell_type": "code",
      "source": [
        "from sklearn.linear_model import LogisticRegression\n",
        "from sklearn.metrics import accuracy_score, precision_score, recall_score, f1_score, confusion_matrix\n",
        "\n",
        "# Initialize Logistic Regression model\n",
        "logistic_model = LogisticRegression(random_state=42)\n",
        "\n",
        "# Fit the model on the training data\n",
        "logistic_model.fit(X_train, Y_train)\n",
        "\n",
        "# Make predictions on the test set\n",
        "Y_pred = logistic_model.predict(X_test)\n",
        "\n",
        "# Calculate accuracy\n",
        "accuracy = accuracy_score(Y_test, Y_pred)\n",
        "print('Accuracy:', accuracy)\n",
        "\n",
        "# Calculate precision, recall, and F1 score\n",
        "precision = precision_score(Y_test, Y_pred)\n",
        "recall = recall_score(Y_test, Y_pred)\n",
        "f1 = f1_score(Y_test, Y_pred)\n",
        "\n",
        "print('Precision:', precision)\n",
        "print('Recall:', recall)\n",
        "print('F1 Score:', f1)\n",
        "\n",
        "# Calculate and print the confusion matrix\n",
        "conf_matrix = confusion_matrix(Y_test, Y_pred)\n",
        "print('Confusion Matrix:')\n",
        "print(conf_matrix)"
      ],
      "metadata": {
        "colab": {
          "base_uri": "https://localhost:8080/"
        },
        "id": "_SkpneDWBibY",
        "outputId": "f484e366-a6d7-452b-8a20-4f0713e3a4d8"
      },
      "execution_count": null,
      "outputs": [
        {
          "output_type": "stream",
          "name": "stdout",
          "text": [
            "Accuracy: 0.8\n",
            "Precision: 0.6451612903225806\n",
            "Recall: 0.6896551724137931\n",
            "F1 Score: 0.6666666666666667\n",
            "Confusion Matrix:\n",
            "[[60 11]\n",
            " [ 9 20]]\n"
          ]
        }
      ]
    },
    {
      "cell_type": "markdown",
      "source": [
        "### Using Logistic Regression model (with selected features)\n",
        "\n",
        "Feature selection which we did previously is based on linear correlations - these features are useful for linear models like logistic regression"
      ],
      "metadata": {
        "id": "C-lZI3td_eio"
      }
    },
    {
      "cell_type": "code",
      "source": [
        "# Initialize Logistic Regression model\n",
        "logistic_model = LogisticRegression(random_state=42)\n",
        "\n",
        "# Fit the model on the training data\n",
        "logistic_model.fit(X_train_final, Y_train)\n",
        "\n",
        "# Make predictions on the test set\n",
        "Y_pred = logistic_model.predict(X_test_final)\n",
        "\n",
        "# Calculate accuracy\n",
        "accuracy = accuracy_score(Y_test, Y_pred)\n",
        "print('Accuracy:', accuracy)\n",
        "\n",
        "# Calculate precision, recall, and F1 score\n",
        "precision = precision_score(Y_test, Y_pred)\n",
        "recall = recall_score(Y_test, Y_pred)\n",
        "f1 = f1_score(Y_test, Y_pred)\n",
        "\n",
        "print('Precision:', precision)\n",
        "print('Recall:', recall)\n",
        "print('F1 Score:', f1)\n",
        "\n",
        "# Calculate and print the confusion matrix\n",
        "conf_matrix = confusion_matrix(Y_test, Y_pred)\n",
        "print('Confusion Matrix:')\n",
        "print(conf_matrix)"
      ],
      "metadata": {
        "colab": {
          "base_uri": "https://localhost:8080/"
        },
        "id": "apwVjbRb_GsE",
        "outputId": "cca19577-2a91-48c8-d0af-24708361b9d2"
      },
      "execution_count": null,
      "outputs": [
        {
          "output_type": "stream",
          "name": "stdout",
          "text": [
            "Accuracy: 0.81\n",
            "Precision: 0.6785714285714286\n",
            "Recall: 0.6551724137931034\n",
            "F1 Score: 0.6666666666666666\n",
            "Confusion Matrix:\n",
            "[[62  9]\n",
            " [10 19]]\n"
          ]
        }
      ]
    },
    {
      "cell_type": "markdown",
      "source": [
        "### Using Decision Tree model (without feature selection)"
      ],
      "metadata": {
        "id": "6WpfNjqdAli5"
      }
    },
    {
      "cell_type": "code",
      "source": [
        "from sklearn.tree import DecisionTreeClassifier\n",
        "\n",
        "# Initialize Decision Tree Classifier\n",
        "tree_model = DecisionTreeClassifier(random_state=42)\n",
        "\n",
        "# Fit the model on the training data\n",
        "tree_model.fit(X_train, Y_train)\n",
        "\n",
        "# Make predictions on the test set\n",
        "Y_pred_tree = tree_model.predict(X_test)\n",
        "\n",
        "# Calculate accuracy\n",
        "accuracy_tree = accuracy_score(Y_test, Y_pred_tree)\n",
        "print('Accuracy:', accuracy_tree)\n",
        "\n",
        "# Calculate precision, recall, and F1 score\n",
        "precision_tree = precision_score(Y_test, Y_pred_tree)\n",
        "recall_tree = recall_score(Y_test, Y_pred_tree)\n",
        "f1_tree = f1_score(Y_test, Y_pred_tree)\n",
        "\n",
        "print('Precision:', precision_tree)\n",
        "print('Recall:', recall_tree)\n",
        "print('F1 Score:', f1_tree)\n",
        "\n",
        "# Calculate and print the confusion matrix\n",
        "conf_matrix_tree = confusion_matrix(Y_test, Y_pred_tree)\n",
        "print('Confusion Matrix:')\n",
        "print(conf_matrix_tree)"
      ],
      "metadata": {
        "colab": {
          "base_uri": "https://localhost:8080/"
        },
        "id": "aOsubDbwAiPu",
        "outputId": "1c05597a-0a99-4d9f-e493-14a063c85816"
      },
      "execution_count": null,
      "outputs": [
        {
          "output_type": "stream",
          "name": "stdout",
          "text": [
            "Accuracy: 0.71\n",
            "Precision: 0.5\n",
            "Recall: 0.4827586206896552\n",
            "F1 Score: 0.49122807017543857\n",
            "Confusion Matrix:\n",
            "[[57 14]\n",
            " [15 14]]\n"
          ]
        }
      ]
    },
    {
      "cell_type": "markdown",
      "source": [
        "### Using Decision Tree model (with feature selection)"
      ],
      "metadata": {
        "id": "EXr0j0QBAWwI"
      }
    },
    {
      "cell_type": "code",
      "source": [
        "# Initialize Decision Tree Classifier\n",
        "tree_model = DecisionTreeClassifier(random_state=42)\n",
        "\n",
        "# Fit the model on the training data\n",
        "tree_model.fit(X_train_final, Y_train)\n",
        "\n",
        "# Make predictions on the test set\n",
        "Y_pred_tree = tree_model.predict(X_test_final)\n",
        "\n",
        "# Calculate accuracy\n",
        "accuracy_tree = accuracy_score(Y_test, Y_pred_tree)\n",
        "print('Accuracy:', accuracy_tree)\n",
        "\n",
        "# Calculate precision, recall, and F1 score\n",
        "precision_tree = precision_score(Y_test, Y_pred_tree)\n",
        "recall_tree = recall_score(Y_test, Y_pred_tree)\n",
        "f1_tree = f1_score(Y_test, Y_pred_tree)\n",
        "\n",
        "print('Precision:', precision_tree)\n",
        "print('Recall:', recall_tree)\n",
        "print('F1 Score:', f1_tree)\n",
        "\n",
        "# Calculate and print the confusion matrix\n",
        "conf_matrix_tree = confusion_matrix(Y_test, Y_pred_tree)\n",
        "print('Confusion Matrix:')\n",
        "print(conf_matrix_tree)"
      ],
      "metadata": {
        "colab": {
          "base_uri": "https://localhost:8080/"
        },
        "id": "DJt3144wAdC-",
        "outputId": "ef03bf31-ee4b-4200-b047-c8f9c0e7d738"
      },
      "execution_count": null,
      "outputs": [
        {
          "output_type": "stream",
          "name": "stdout",
          "text": [
            "Accuracy: 0.74\n",
            "Precision: 0.5555555555555556\n",
            "Recall: 0.5172413793103449\n",
            "F1 Score: 0.5357142857142857\n",
            "Confusion Matrix:\n",
            "[[59 12]\n",
            " [14 15]]\n"
          ]
        }
      ]
    },
    {
      "cell_type": "markdown",
      "source": [
        "* Feature Selection Impact: For logistic regression, feature selection slightly improved accuracy and precision, while recall slightly dropped. This indicates that the selected features were more relevant to the target variable, improving the model’s overall performance.\n",
        "\n",
        "* Model Comparison: The logistic regression models (both with and without feature selection) outperformed the decision tree models across all metrics. This suggests that logistic regression is a better fit for this particular dataset and problem.\n",
        "\n",
        "* Decision Trees’ Performance: The decision tree models had lower performance metrics compared to logistic regression. However, feature selection did improve the performance of the decision tree model, indicating that it was able to make better predictions with the more relevant features"
      ],
      "metadata": {
        "id": "qM_xwOH6CgKI"
      }
    },
    {
      "cell_type": "markdown",
      "source": [
        "### Hyperparameter Tuning\n",
        "\n",
        "Logistic regression is already performing quite well on dataset.\n",
        "\n",
        "Decision trees showed significant improvement when features were selected, and there’s typically more hyperparameters to tune in decision tree models, we may see substantial performance boost from tuning a decision tree model. So we are tuning hyperparameters of this model using GridSearchCV"
      ],
      "metadata": {
        "id": "VKct_-tyDMff"
      }
    },
    {
      "cell_type": "code",
      "source": [
        "from sklearn.model_selection import GridSearchCV\n",
        "from sklearn.metrics import classification_report\n",
        "\n",
        "param_grid = {\n",
        "    'criterion': ['gini', 'entropy'],\n",
        "    'max_depth': np.arange(3, 15),\n",
        "    'min_samples_split': np.arange(2, 10),\n",
        "    'min_samples_leaf': np.arange(1, 10)\n",
        "}\n",
        "\n",
        "dtree = DecisionTreeClassifier(random_state=42)\n",
        "grid_search = GridSearchCV(dtree, param_grid, cv=5, scoring='accuracy', n_jobs=-1)\n",
        "\n",
        "grid_search.fit(X_train, Y_train)\n",
        "\n",
        "best_params = grid_search.best_params_\n",
        "best_model = grid_search.best_estimator_\n",
        "\n",
        "Y_pred_tree_param = best_model.predict(X_test)\n",
        "\n",
        "accuracy_tree_param = accuracy_score(Y_test, Y_pred_tree_param)\n",
        "print(best_params)\n",
        "print('Accuracy:', accuracy_tree_param)\n",
        "print(classification_report(Y_test, Y_pred))"
      ],
      "metadata": {
        "colab": {
          "base_uri": "https://localhost:8080/"
        },
        "id": "OGuy_-hkE9U0",
        "outputId": "40571f90-d6e3-4881-9caa-0931d23cb42c"
      },
      "execution_count": null,
      "outputs": [
        {
          "output_type": "stream",
          "name": "stdout",
          "text": [
            "{'criterion': 'entropy', 'max_depth': 8, 'min_samples_leaf': 2, 'min_samples_split': 2}\n",
            "Accuracy: 0.74\n",
            "              precision    recall  f1-score   support\n",
            "\n",
            "           0       0.86      0.87      0.87        71\n",
            "           1       0.68      0.66      0.67        29\n",
            "\n",
            "    accuracy                           0.81       100\n",
            "   macro avg       0.77      0.76      0.77       100\n",
            "weighted avg       0.81      0.81      0.81       100\n",
            "\n"
          ]
        }
      ]
    },
    {
      "cell_type": "markdown",
      "source": [
        "As Expected earlier decision tree with tuned hyperparameters has shown better performance"
      ],
      "metadata": {
        "id": "xohgsRlIH-iK"
      }
    },
    {
      "cell_type": "markdown",
      "source": [
        "Hyperparameter Tuning of Logistic Regresssion Model"
      ],
      "metadata": {
        "id": "kDePNncsH46p"
      }
    },
    {
      "cell_type": "code",
      "source": [
        "param_grid = {\n",
        "    'C': [0.001, 0.01, 0.1, 1, 10, 100],\n",
        "    'penalty': ['l1', 'l2'],\n",
        "    'solver': ['liblinear', 'saga']\n",
        "}\n",
        "\n",
        "grid_search = GridSearchCV(logistic_model, param_grid, scoring='accuracy', cv=5, verbose=1)\n",
        "grid_search.fit(X_train_final, Y_train)\n",
        "\n",
        "print('Best parameters found: ', grid_search.best_params_)\n",
        "print('Best accuracy found: ', grid_search.best_score_)\n",
        "\n",
        "Y_pred = grid_search.best_estimator_.predict(X_test_final)\n",
        "print('Accuracy:', accuracy_score(Y_test, Y_pred))\n",
        "print('Precision:', precision_score(Y_test, Y_pred))\n",
        "print('Recall:', recall_score(Y_test, Y_pred))\n",
        "print('F1 Score:', f1_score(Y_test, Y_pred))\n",
        "print('Confusion Matrix:')\n",
        "print(confusion_matrix(Y_test, Y_pred))"
      ],
      "metadata": {
        "colab": {
          "base_uri": "https://localhost:8080/"
        },
        "id": "qkOVS6_qHK8V",
        "outputId": "ffb410f0-6a60-4574-f2a8-aa6ad1582e60"
      },
      "execution_count": null,
      "outputs": [
        {
          "output_type": "stream",
          "name": "stdout",
          "text": [
            "Fitting 5 folds for each of 24 candidates, totalling 120 fits\n"
          ]
        },
        {
          "output_type": "stream",
          "name": "stderr",
          "text": [
            "/usr/local/lib/python3.10/dist-packages/sklearn/linear_model/_sag.py:350: ConvergenceWarning: The max_iter was reached which means the coef_ did not converge\n",
            "  warnings.warn(\n",
            "/usr/local/lib/python3.10/dist-packages/sklearn/linear_model/_sag.py:350: ConvergenceWarning: The max_iter was reached which means the coef_ did not converge\n",
            "  warnings.warn(\n",
            "/usr/local/lib/python3.10/dist-packages/sklearn/linear_model/_sag.py:350: ConvergenceWarning: The max_iter was reached which means the coef_ did not converge\n",
            "  warnings.warn(\n",
            "/usr/local/lib/python3.10/dist-packages/sklearn/linear_model/_sag.py:350: ConvergenceWarning: The max_iter was reached which means the coef_ did not converge\n",
            "  warnings.warn(\n",
            "/usr/local/lib/python3.10/dist-packages/sklearn/linear_model/_sag.py:350: ConvergenceWarning: The max_iter was reached which means the coef_ did not converge\n",
            "  warnings.warn(\n",
            "/usr/local/lib/python3.10/dist-packages/sklearn/linear_model/_sag.py:350: ConvergenceWarning: The max_iter was reached which means the coef_ did not converge\n",
            "  warnings.warn(\n",
            "/usr/local/lib/python3.10/dist-packages/sklearn/linear_model/_sag.py:350: ConvergenceWarning: The max_iter was reached which means the coef_ did not converge\n",
            "  warnings.warn(\n",
            "/usr/local/lib/python3.10/dist-packages/sklearn/linear_model/_sag.py:350: ConvergenceWarning: The max_iter was reached which means the coef_ did not converge\n",
            "  warnings.warn(\n"
          ]
        },
        {
          "output_type": "stream",
          "name": "stdout",
          "text": [
            "Best parameters found:  {'C': 1, 'penalty': 'l2', 'solver': 'liblinear'}\n",
            "Best accuracy found:  0.7588888888888888\n",
            "Accuracy: 0.81\n",
            "Precision: 0.6785714285714286\n",
            "Recall: 0.6551724137931034\n",
            "F1 Score: 0.6666666666666666\n",
            "Confusion Matrix:\n",
            "[[62  9]\n",
            " [10 19]]\n"
          ]
        }
      ]
    },
    {
      "cell_type": "markdown",
      "source": [
        "As expected, Hyperparameter tuning of logistic regression did not lead to an improvement in the model’s performance for this specific test set, as the metrics before and after tuning are almost the same"
      ],
      "metadata": {
        "id": "sqTMkvL1HtvZ"
      }
    },
    {
      "cell_type": "code",
      "source": [
        "from sklearn.metrics import roc_curve, precision_recall_curve, auc\n",
        "import matplotlib.pyplot as plt\n",
        "\n",
        "# Compute predicted probabilities\n",
        "Y_score = grid_search.best_estimator_.predict_proba(X_test_final)[:, 1]\n",
        "\n",
        "# Compute ROC curve\n",
        "fpr, tpr, _ = roc_curve(Y_test, Y_score)\n",
        "roc_auc = auc(fpr, tpr)\n",
        "\n",
        "# Compute Precision-Recall curve\n",
        "precision, recall, _ = precision_recall_curve(Y_test, Y_score)\n",
        "pr_auc = auc(recall, precision)\n",
        "\n",
        "# Create side-by-side plots\n",
        "fig, (ax1, ax2) = plt.subplots(1, 2, figsize=(16, 8))\n",
        "plt.subplots_adjust(wspace=0.3)\n",
        "\n",
        "# Plot ROC curve\n",
        "ax1.plot(fpr, tpr, color='darkorange', lw=2, label='ROC curve (area = %0.2f)' % roc_auc)\n",
        "ax1.plot([0, 1], [0, 1], color='navy', lw=2, linestyle='--')\n",
        "ax1.set_xlabel('False Positive Rate', fontsize=14)\n",
        "ax1.set_ylabel('True Positive Rate', fontsize=14)\n",
        "ax1.set_title('Receiver Operating Characteristic (ROC) Curve', fontsize=16)\n",
        "ax1.legend(loc=\"lower right\", fontsize=12)\n",
        "\n",
        "# Plot Precision-Recall curve\n",
        "ax2.plot(recall, precision, color='green', lw=2, label='Precision-Recall curve (area = %0.2f)' % pr_auc)\n",
        "ax2.set_xlabel('Recall', fontsize=14)\n",
        "ax2.set_ylabel('Precision', fontsize=14)\n",
        "ax2.set_title('Precision-Recall Curve', fontsize=16)\n",
        "ax2.legend(loc=\"upper right\", fontsize=12)\n",
        "\n",
        "# Show plots\n",
        "plt.show()"
      ],
      "metadata": {
        "id": "aAkNkOSLQ8jq",
        "outputId": "9179931e-8997-4f27-9e8d-fe6ce31ef733",
        "colab": {
          "base_uri": "https://localhost:8080/",
          "height": 725
        }
      },
      "execution_count": null,
      "outputs": [
        {
          "output_type": "display_data",
          "data": {
            "text/plain": [
              "<Figure size 1600x800 with 2 Axes>"
            ],
            "image/png": "[encoded data removed]"
          },
          "metadata": {}
        }
      ]
    },
    {
      "cell_type": "markdown",
      "source": [
        "As expected hyperparameter tuning has improved the decision tree model"
      ],
      "metadata": {
        "id": "X61b-jkFGINg"
      }
    }
  ],
  "metadata": {
    "kernelspec": {
      "display_name": "Python 3 (ipykernel)",
      "language": "python",
      "name": "python3"
    },
    "language_info": {
      "codemirror_mode": {
        "name": "ipython",
        "version": 3
      },
      "file_extension": ".py",
      "mimetype": "text/x-python",
      "name": "python",
      "nbconvert_exporter": "python",
      "pygments_lexer": "ipython3",
      "version": "3.9.13"
    },
    "colab": {
      "provenance": [],
      "include_colab_link": true
    }
  },
  "nbformat": 4,
  "nbformat_minor": 0
}